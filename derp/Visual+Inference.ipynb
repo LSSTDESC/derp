{
 "cells": [
  {
   "cell_type": "code",
   "execution_count": 20,
   "metadata": {},
   "outputs": [
    {
     "name": "stdout",
     "output_type": "stream",
     "text": [
      "The autoreload extension is already loaded. To reload it, use:\n",
      "  %reload_ext autoreload\n"
     ]
    }
   ],
   "source": [
    "import torch\n",
    "import numpy as np\n",
    "import pandas as pd\n",
    "from dataloader import DerpData\n",
    "from torch.utils.data import DataLoader\n",
    "from net.regressor import Regressor\n",
    "import matplotlib.pyplot as plt\n",
    "import os\n",
    "%matplotlib inline\n",
    "%load_ext autoreload\n",
    "%autoreload 2"
   ]
  },
  {
   "cell_type": "code",
   "execution_count": 32,
   "metadata": {},
   "outputs": [],
   "source": [
    "checkpoint_path = os.path.join('checkpoint', 'regressor_30.000000_0.001000.pth')\n",
    "device = torch.device('cuda' if torch.cuda.is_available() else 'cpu')\n",
    "if device=='cuda':\n",
    "    torch.set_default_tensor_type('torch.cuda.FloatTensor')"
   ]
  },
  {
   "cell_type": "code",
   "execution_count": 33,
   "metadata": {},
   "outputs": [
    {
     "data": {
      "text/plain": [
       "Regressor(\n",
       "  (relu): ReLU()\n",
       "  (bn_1): BatchNorm1d(12, eps=1e-05, momentum=0.1, affine=True, track_running_stats=True)\n",
       "  (bn_2): BatchNorm1d(100, eps=1e-05, momentum=0.1, affine=True, track_running_stats=True)\n",
       "  (bn_3): BatchNorm1d(200, eps=1e-05, momentum=0.1, affine=True, track_running_stats=True)\n",
       "  (bn_4): BatchNorm1d(400, eps=1e-05, momentum=0.1, affine=True, track_running_stats=True)\n",
       "  (fc_1): Linear(in_features=12, out_features=100, bias=True)\n",
       "  (fc_2): Linear(in_features=100, out_features=200, bias=True)\n",
       "  (fc_3): Linear(in_features=200, out_features=400, bias=True)\n",
       "  (fc_4): Linear(in_features=400, out_features=9, bias=True)\n",
       ")"
      ]
     },
     "execution_count": 33,
     "metadata": {},
     "output_type": "execute_result"
    }
   ],
   "source": [
    "test_data = DerpData(X_filepath='X.csv', y_filepath='y.csv', is_train=False)\n",
    "test_loader = DataLoader(test_data, batch_size=500, shuffle=False)\n",
    "model = Regressor(input_dim=test_data.X_dim, output_dim=test_data.y_dim).to(device)\n",
    "model.load_state_dict(torch.load(checkpoint_path))\n",
    "model.eval()"
   ]
  },
  {
   "cell_type": "code",
   "execution_count": 34,
   "metadata": {},
   "outputs": [],
   "source": [
    "def sigmoid(x):\n",
    "    return 1.0 / (1.0 + np.exp(-x))"
   ]
  },
  {
   "cell_type": "code",
   "execution_count": 35,
   "metadata": {},
   "outputs": [],
   "source": [
    "def loss_function(output, label, binary_label, label_mask, binary_label_mask, scale_bce, test=False):\n",
    "    # Regression\n",
    "    reg_loss = torch.nn.SmoothL1Loss(reduction='none')(output[:, :-1], label)\n",
    "    reg_loss[label_mask] = 0.0\n",
    "    reduced_reg_loss = torch.mean(torch.sum(reg_loss, dim=1))\n",
    "    \n",
    "    # Binary classification\n",
    "    bce_output = output[:, -1].reshape(-1, 1) # Take last dim for classification\n",
    "    if test:\n",
    "        pos_weight = None\n",
    "    else:\n",
    "        num_negatives = torch.sum(binary_label == 0.0, dim=0).float()\n",
    "        num_positives = torch.sum(binary_label == 1.0, dim=0).float()\n",
    "        #print(num_negatives, num_positives)\n",
    "        pos_weight = num_negatives/(num_positives) # 1 to prevent zero division\n",
    "    #print(pos_weight)\n",
    "    bce_loss = torch.nn.BCEWithLogitsLoss(reduction='none', pos_weight=pos_weight)(bce_output, binary_label)\n",
    "    bce_loss[binary_label_mask] = 0.0\n",
    "    reduced_bce_loss = torch.mean(bce_loss)\n",
    "    \n",
    "    return reduced_reg_loss + reduced_bce_loss*scale_bce"
   ]
  },
  {
   "cell_type": "code",
   "execution_count": 36,
   "metadata": {},
   "outputs": [
    {
     "name": "stdout",
     "output_type": "stream",
     "text": [
      "Final test loss:  0.0018679394430559596\n"
     ]
    }
   ],
   "source": [
    "test_loss = 0\n",
    "output_to_save = None\n",
    "with torch.no_grad():\n",
    "    for i, (testbatch_X, testbatch_y, testbatch_bin_y, testmask_X, testmask_y, testmask_bin_y) in enumerate(test_loader):\n",
    "        testbatch_X = testbatch_X.float().to(device)\n",
    "        testbatch_y = testbatch_y.float().to(device)\n",
    "        testbatch_bin_y = testbatch_bin_y.float().to(device)\n",
    "        output = model(testbatch_X)\n",
    "        if output_to_save is not None:\n",
    "            output_to_save = np.concatenate([output_to_save, output.detach().cpu().numpy()], axis=0)\n",
    "        else:\n",
    "            output_to_save = output.detach().cpu().numpy()\n",
    "        test_loss += loss_function(output, testbatch_y, testbatch_bin_y, testmask_y, testmask_bin_y, scale_bce=0.1, test=True).item()\n",
    "test_loss = test_loss/len(test_loader.dataset)\n",
    "print(\"Final test loss: \", test_loss)"
   ]
  },
  {
   "cell_type": "code",
   "execution_count": 37,
   "metadata": {},
   "outputs": [],
   "source": [
    "np.save('test_X', test_data.X)\n",
    "test_y_combined = np.concatenate([test_data.y, test_data.y_binary], axis=1)\n",
    "np.save('test_y', test_y_combined)\n",
    "np.save('test_output', output_to_save)"
   ]
  },
  {
   "cell_type": "code",
   "execution_count": 38,
   "metadata": {},
   "outputs": [],
   "source": [
    "column_ordering = test_data.y_columns\n",
    "test_output = pd.DataFrame(output_to_save, columns=column_ordering)\n",
    "test_labels = pd.DataFrame(test_y_combined, columns=column_ordering)"
   ]
  },
  {
   "cell_type": "code",
   "execution_count": 40,
   "metadata": {},
   "outputs": [
    {
     "data": {
      "text/plain": [
       "Text(0.5,1,'extendedness')"
      ]
     },
     "execution_count": 40,
     "metadata": {},
     "output_type": "execute_result"
    },
    {
     "data": {
      "image/png": "[encoded data removed]",
      "text/plain": [
       "<Figure size 432x288 with 2 Axes>"
      ]
     },
     "metadata": {},
     "output_type": "display_data"
    }
   ],
   "source": [
    "#column = 'mag_r_cModel'\n",
    "#column = 'r_modelfit_CModel_flux'\n",
    "column = 'extendedness'\n",
    "#column = 'ra'\n",
    "\n",
    "x = test_labels[column]\n",
    "\n",
    "if column == 'extendedness':\n",
    "    y = test_output[column]\n",
    "    y = sigmoid(y)\n",
    "    y = (y > 0.5).astype(np.float32)\n",
    "    bins = 2\n",
    "else:\n",
    "    y = test_output[column]\n",
    "    bins = 30\n",
    "#print(np.min(x), np.max(x))\n",
    "line_x = np.linspace(np.min(x), np.max(x))\n",
    "line_y = line_x\n",
    "plt.plot(line_x, line_y, color='r')\n",
    "hist = plt.hist2d(x, y, bins=bins, range=[[np.min(x), np.max(x)], [np.min(y), np.max(y)]], normed=False)\n",
    "plt.colorbar()\n",
    "plt.xlabel(\"observed values (labels)\")\n",
    "plt.ylabel(\"network output\")\n",
    "plt.title(column)"
   ]
  },
  {
   "cell_type": "code",
   "execution_count": 41,
   "metadata": {},
   "outputs": [
    {
     "data": {
      "text/plain": [
       "(array([[ 296.,  294.],\n",
       "        [ 591., 2026.]]),\n",
       " array([0. , 0.5, 1. ]),\n",
       " array([0. , 0.5, 1. ]),\n",
       " <matplotlib.image.AxesImage at 0x7f95e03af0f0>)"
      ]
     },
     "execution_count": 41,
     "metadata": {},
     "output_type": "execute_result"
    }
   ],
   "source": [
    "hist"
   ]
  },
  {
   "cell_type": "code",
   "execution_count": null,
   "metadata": {},
   "outputs": [],
   "source": []
  }
 ],
 "metadata": {
  "kernelspec": {
   "display_name": "Python 3",
   "language": "python",
   "name": "python3"
  },
  "language_info": {
   "codemirror_mode": {
    "name": "ipython",
    "version": 3
   },
   "file_extension": ".py",
   "mimetype": "text/x-python",
   "name": "python",
   "nbconvert_exporter": "python",
   "pygments_lexer": "ipython3",
   "version": "3.5.2"
  }
 },
 "nbformat": 4,
 "nbformat_minor": 2
}
